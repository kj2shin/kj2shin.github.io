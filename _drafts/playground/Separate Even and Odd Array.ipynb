{
 "cells": [
  {
   "cell_type": "code",
   "execution_count": 7,
   "metadata": {},
   "outputs": [],
   "source": [
    "def even_odd(A):\n",
    "    next_even, next_odd = 0, len(A)-1\n",
    "    while next_even < next_odd:\n",
    "        if A[next_even] % 2 == 0:\n",
    "            next_even += 1\n",
    "        else:\n",
    "            A[next_even], A[next_odd] = A[next_odd], A[next_even]\n",
    "            next_odd -= 1"
   ]
  },
  {
   "cell_type": "code",
   "execution_count": 8,
   "metadata": {},
   "outputs": [
    {
     "name": "stdout",
     "output_type": "stream",
     "text": [
      "[8, 2, 6, 4, 5, 7, 3, 9, 1]\n"
     ]
    }
   ],
   "source": [
    "A = [1,2,3,4,5,6,7,8,9]\n",
    "even_odd(A)\n",
    "print(A)"
   ]
  },
  {
   "cell_type": "code",
   "execution_count": null,
   "metadata": {},
   "outputs": [],
   "source": []
  }
 ],
 "metadata": {
  "kernelspec": {
   "display_name": "Python 3",
   "language": "python",
   "name": "python3"
  },
  "language_info": {
   "codemirror_mode": {
    "name": "ipython",
    "version": 3
   },
   "file_extension": ".py",
   "mimetype": "text/x-python",
   "name": "python",
   "nbconvert_exporter": "python",
   "pygments_lexer": "ipython3",
   "version": "3.7.5"
  }
 },
 "nbformat": 4,
 "nbformat_minor": 2
}
