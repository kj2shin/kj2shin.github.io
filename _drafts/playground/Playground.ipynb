{
 "cells": [
  {
   "cell_type": "markdown",
   "metadata": {},
   "source": [
    "```\n",
    "[\"MyCalendar\",\"book\",\"book\",\"book\",\"book\",\"book\",\"book\",\"book\",\"book\",\"book\",\"book\"]\n",
    "\n",
    "[[],[47,50],[33,41],[39,45],[33,42],[25,32],[26,35],[19,25],[3,8],[8,13],[18,27]]\n",
    "\n",
    "[null,true,true,false,false,true,false,true,true,true,false]\n",
    "```"
   ]
  },
  {
   "cell_type": "code",
   "execution_count": 111,
   "metadata": {},
   "outputs": [],
   "source": [
    "class MyCalendar:\n",
    "    booked_intervals = set()\n",
    "    def __init__(self):\n",
    "        pass\n",
    "\n",
    "    def book(self, start: int, end: int) -> bool:\n",
    "        if len(self.booked_intervals) == 0:\n",
    "            self.booked_intervals.add((start, end))\n",
    "            return True\n",
    "        if (start, end) in self.booked_intervals:\n",
    "            return False\n",
    "        for booked_interval in self.booked_intervals:\n",
    "            if start >= booked_interval[0] and start < booked_interval[1]:\n",
    "                return False\n",
    "            if end > booked_interval[0] and end < booked_interval[1]:\n",
    "                return False\n",
    "        self.booked_intervals.add((start, end))\n",
    "        return True"
   ]
  },
  {
   "cell_type": "code",
   "execution_count": 109,
   "metadata": {},
   "outputs": [
    {
     "name": "stdout",
     "output_type": "stream",
     "text": [
      "temp = MyCalendar()\n",
      "print(temp.book(47, 50))\n",
      "print(temp.book(33, 41))\n",
      "print(temp.book(39, 45))\n",
      "print(temp.book(33, 42))\n",
      "print(temp.book(25, 32))\n",
      "print(temp.book(26, 35))\n",
      "print(temp.book(19, 25))\n",
      "print(temp.book(3, 8))\n",
      "print(temp.book(8, 13))\n",
      "print(temp.book(18, 27))\n"
     ]
    }
   ],
   "source": [
    "commands = [\"MyCalendar\",\"book\",\"book\",\"book\",\"book\",\"book\",\"book\",\"book\",\"book\",\"book\",\"book\"]\n",
    "args = [[],[47,50],[33,41],[39,45],[33,42],[25,32],[26,35],[19,25],[3,8],[8,13],[18,27]]\n",
    "\n",
    "for command, arg in zip(commands, args):\n",
    "    temp = \"temp\"\n",
    "    if arg == []:\n",
    "        print(f\"{temp} = {command}({','.join(str(x) for x in arg)})\")\n",
    "    else:\n",
    "        print(f\"print({temp}.{command}({', '.join(str(x) for x in arg)}))\")\n",
    "        \n",
    "        "
   ]
  },
  {
   "cell_type": "code",
   "execution_count": 112,
   "metadata": {},
   "outputs": [
    {
     "name": "stdout",
     "output_type": "stream",
     "text": [
      "True\n",
      "True\n",
      "False\n",
      "False\n",
      "True\n",
      "False\n",
      "True\n",
      "True\n",
      "True\n",
      "False\n"
     ]
    }
   ],
   "source": [
    "temp = MyCalendar()\n",
    "print(temp.book(47, 50))\n",
    "print(temp.book(33, 41))\n",
    "print(temp.book(39, 45))\n",
    "print(temp.book(33, 42))\n",
    "print(temp.book(25, 32))\n",
    "print(temp.book(26, 35))\n",
    "print(temp.book(19, 25))\n",
    "print(temp.book(3, 8))\n",
    "print(temp.book(8, 13))\n",
    "print(temp.book(18, 27))"
   ]
  },
  {
   "cell_type": "code",
   "execution_count": null,
   "metadata": {},
   "outputs": [],
   "source": [
    "true\n",
    "true\n",
    "false\n",
    "false\n",
    "true\n",
    "false\n",
    "true\n",
    "true,\n",
    "true,\n",
    "false"
   ]
  }
 ],
 "metadata": {
  "kernelspec": {
   "display_name": "Python 3",
   "language": "python",
   "name": "python3"
  },
  "language_info": {
   "codemirror_mode": {
    "name": "ipython",
    "version": 3
   },
   "file_extension": ".py",
   "mimetype": "text/x-python",
   "name": "python",
   "nbconvert_exporter": "python",
   "pygments_lexer": "ipython3",
   "version": "3.7.5"
  }
 },
 "nbformat": 4,
 "nbformat_minor": 2
}
